{
 "cells": [
  {
   "cell_type": "markdown",
   "metadata": {},
   "source": [
    "### Data source \n",
    "#### https://www.kaggle.com/c/dogs-vs-cats\n",
    "\n",
    "you need to divide data into train and val like\n",
    "\n",
    "- Data\n",
    "    - train\n",
    "        - dog\n",
    "        - cat\n",
    "    - val\n",
    "        - dog\n",
    "        - cat"
   ]
  },
  {
   "cell_type": "code",
   "execution_count": 1,
   "metadata": {},
   "outputs": [],
   "source": [
    "from tensorflow import keras as keras\n",
    "import tensorflow as tf"
   ]
  },
  {
   "cell_type": "code",
   "execution_count": 2,
   "metadata": {},
   "outputs": [],
   "source": [
    "class convBlock(keras.models.Model):\n",
    "    \n",
    "    def __init__(self, convNum , filters):\n",
    "        super().__init__()\n",
    "        \n",
    "        self.convNum = convNum\n",
    "        for i in range(convNum):\n",
    "            \n",
    "            # Define a Conv2D layer, specifying filters, kernel_size, activation and padding.\n",
    "            vars(self)[f'conv2D_{i}'] = tf.keras.layers.Conv2D(filters, (3,3), \n",
    "                                                               activation='relu', padding=\"same\")\n",
    "            \n",
    "            \n",
    "        self.maxPool = keras.layers.MaxPool2D(2  , 2)\n",
    "    \n",
    "    \n",
    "    \n",
    "    def call(self, inputs):\n",
    "        \n",
    "        \n",
    "        conv2D_0 = vars(self)['conv2D_0']\n",
    "        x = conv2D_0(inputs)\n",
    "        for i in range(1,self.convNum):\n",
    "            \n",
    "            conv2D_i = vars(self)[f'conv2D_{i}']\n",
    "            x = conv2D_i(x)\n",
    "            \n",
    "            \n",
    "            \n",
    "        x = self.maxPool(x)\n",
    "        \n",
    "        \n",
    "        return x\n",
    "    "
   ]
  },
  {
   "cell_type": "code",
   "execution_count": 3,
   "metadata": {},
   "outputs": [],
   "source": [
    "class VGG16(keras.models.Model):\n",
    "    def __init__(self,numberOfClass):\n",
    "        super().__init__()\n",
    "        \n",
    "        self.block1 = convBlock(2 , 64)\n",
    "        self.block2 = convBlock(2 , 128)\n",
    "        self.block3 = convBlock(3 , 256) \n",
    "        self.block4 = convBlock(3 , 512)\n",
    "        self.block5 = convBlock(3 , 512) \n",
    "        \n",
    "        self.fcLayer1 = keras.layers.Dense(128 , \n",
    "                                          activation=\"relu\")\n",
    "        self.fcLayer2 = keras.layers.Dense(128 , \n",
    "                                          activation=\"relu\")\n",
    "        \n",
    "        self.softmaxLayer  = keras.layers.Dense(numberOfClass , \n",
    "                                                activation=\"softmax\")\n",
    "        self.flatten = keras.layers.Flatten()\n",
    "        \n",
    "    def call(self, inputs):\n",
    "        x = self.block1(inputs) #2\n",
    "        x = self.block2(x) #2\n",
    "        x = self.block3(x) #3\n",
    "        x = self.block4(x) #3\n",
    "        x = self.block5(x) #3\n",
    "        x = self.flatten(x)\n",
    "        x = self.fcLayer1(x) #1\n",
    "        x = self.fcLayer2(x) #1\n",
    "        x = self.softmaxLayer(x)  #1\n",
    "           \n",
    "        return   x\n"
   ]
  },
  {
   "cell_type": "code",
   "execution_count": 4,
   "metadata": {},
   "outputs": [
    {
     "name": "stdout",
     "output_type": "stream",
     "text": [
      "Model: \"vgg16\"\n",
      "_________________________________________________________________\n",
      " Layer (type)                Output Shape              Param #   \n",
      "=================================================================\n",
      " conv_block (convBlock)      multiple                  0         \n",
      "                                                                 \n",
      " conv_block_1 (convBlock)    multiple                  0         \n",
      "                                                                 \n",
      " conv_block_2 (convBlock)    multiple                  0         \n",
      "                                                                 \n",
      " conv_block_3 (convBlock)    multiple                  0         \n",
      "                                                                 \n",
      " conv_block_4 (convBlock)    multiple                  0         \n",
      "                                                                 \n",
      " dense (Dense)               multiple                  3211392   \n",
      "                                                                 \n",
      " dense_1 (Dense)             multiple                  16512     \n",
      "                                                                 \n",
      " dense_2 (Dense)             multiple                  258       \n",
      "                                                                 \n",
      " flatten (Flatten)           multiple                  0         \n",
      "                                                                 \n",
      "=================================================================\n",
      "Total params: 3,228,162\n",
      "Trainable params: 3,228,162\n",
      "Non-trainable params: 0\n",
      "_________________________________________________________________\n"
     ]
    }
   ],
   "source": [
    "model = VGG16(2)\n",
    "model.build(input_shape=(0,224,224,3))\n",
    "model.summary()"
   ]
  },
  {
   "cell_type": "code",
   "execution_count": 5,
   "metadata": {},
   "outputs": [
    {
     "name": "stdout",
     "output_type": "stream",
     "text": [
      "Found 2000 images belonging to 2 classes.\n",
      "Found 1000 images belonging to 2 classes.\n"
     ]
    }
   ],
   "source": [
    "train_dataGen = keras.preprocessing.image.ImageDataGenerator(rescale=1/255)\n",
    "Train_data = train_dataGen.flow_from_directory(\n",
    "    directory=\"./Data/train/\",\n",
    "    batch_size=20,\n",
    "    target_size=(150 ,150),\n",
    "    class_mode=\"binary\"\n",
    ")\n",
    "validation_dataGen = keras.preprocessing.image.ImageDataGenerator(rescale=1/255)\n",
    "Validation_data = validation_dataGen.flow_from_directory(\n",
    "    directory=\"./Data/val/\",\n",
    "    batch_size=20,\n",
    "    target_size=(150 ,150),\n",
    "    class_mode=\"binary\"\n",
    ")"
   ]
  },
  {
   "cell_type": "code",
   "execution_count": 6,
   "metadata": {},
   "outputs": [
    {
     "name": "stdout",
     "output_type": "stream",
     "text": [
      "100/100 [==============================] - 69s 687ms/step - loss: 0.6938 - accuracy: 0.5095 - val_loss: 0.6924 - val_accuracy: 0.5000\n"
     ]
    },
    {
     "data": {
      "text/plain": [
       "<keras.callbacks.History at 0x20ca2c34520>"
      ]
     },
     "execution_count": 6,
     "metadata": {},
     "output_type": "execute_result"
    }
   ],
   "source": [
    "# create a VGG16 instance with 2 output units for dog vs cat\n",
    "VGGModel = VGG16(2)\n",
    "VGGModel.compile(optimizer='adam', loss='sparse_categorical_crossentropy', metrics=['accuracy'])\n",
    "\n",
    "# train the model.\n",
    "\n",
    "VGGModel.fit(Train_data , validation_data= Validation_data, epochs=1)"
   ]
  }
 ],
 "metadata": {
  "kernelspec": {
   "display_name": "Python 3",
   "language": "python",
   "name": "python3"
  },
  "language_info": {
   "codemirror_mode": {
    "name": "ipython",
    "version": 3
   },
   "file_extension": ".py",
   "mimetype": "text/x-python",
   "name": "python",
   "nbconvert_exporter": "python",
   "pygments_lexer": "ipython3",
   "version": "3.10.7"
  },
  "orig_nbformat": 4
 },
 "nbformat": 4,
 "nbformat_minor": 2
}
